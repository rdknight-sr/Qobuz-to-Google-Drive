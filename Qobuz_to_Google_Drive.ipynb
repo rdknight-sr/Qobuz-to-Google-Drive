{
  "nbformat": 4,
  "nbformat_minor": 0,
  "metadata": {
    "colab": {
      "name": "Qobuz to Google Drive.ipynb",
      "provenance": [],
      "collapsed_sections": [],
      "authorship_tag": "ABX9TyOZdTNuS8AfTYR3CxQxKjk5",
      "include_colab_link": true
    },
    "kernelspec": {
      "display_name": "Python 3",
      "name": "python3"
    }
  },
  "cells": [
    {
      "cell_type": "markdown",
      "metadata": {
        "id": "view-in-github",
        "colab_type": "text"
      },
      "source": [
        "<a href=\"https://colab.research.google.com/github/WellingtonMonteiro/Qobuz-to-Google-Drive/blob/main/Qobuz_to_Google_Drive.ipynb\" target=\"_parent\"><img src=\"https://colab.research.google.com/assets/colab-badge.svg\" alt=\"Open In Colab\"/></a>"
      ]
    },
    {
      "cell_type": "code",
      "metadata": {
        "id": "RPgg493VFAXq"
      },
      "source": [
        " from google.colab import drive \n",
        "drive.mount('/content/drive')"
      ],
      "execution_count": null,
      "outputs": []
    },
    {
      "cell_type": "code",
      "metadata": {
        "id": "0cr-KPlsFtrQ"
      },
      "source": [
        "!apt install python ffmpeg git"
      ],
      "execution_count": null,
      "outputs": []
    },
    {
      "cell_type": "code",
      "metadata": {
        "id": "b1emilYnF3qA"
      },
      "source": [
        "!git clone https://github.com/WellingtonMonteiro/Qo-dl-Reborn.git"
      ],
      "execution_count": null,
      "outputs": []
    },
    {
      "cell_type": "code",
      "metadata": {
        "id": "lk3cQhqHGOIS"
      },
      "source": [
        "%cd Qo-dl-Reborn"
      ],
      "execution_count": null,
      "outputs": []
    },
    {
      "cell_type": "code",
      "metadata": {
        "id": "Nh4aeOXbGbUJ"
      },
      "source": [
        "!pip install -r requirements.txt"
      ],
      "execution_count": null,
      "outputs": []
    },
    {
      "cell_type": "code",
      "metadata": {
        "id": "ZI3M7BnXGng9"
      },
      "source": [
        "!python qo-dl_reborn.py -u https://www.qobuz.com/gb-en/album/the-ultimate-collection-black-sabbath/4050538238044"
      ],
      "execution_count": null,
      "outputs": []
    }
  ]
}